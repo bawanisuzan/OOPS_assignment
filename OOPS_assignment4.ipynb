{
  "nbformat": 4,
  "nbformat_minor": 0,
  "metadata": {
    "colab": {
      "provenance": []
    },
    "kernelspec": {
      "name": "python3",
      "display_name": "Python 3"
    },
    "language_info": {
      "name": "python"
    }
  },
  "cells": [
    {
      "cell_type": "markdown",
      "source": [
        "# **Theoretical Questions**"
      ],
      "metadata": {
        "id": "2s8n4WxACsPm"
      }
    },
    {
      "cell_type": "markdown",
      "source": [
        "Q1. What is Object-Oriented Programming (OOP)?\n",
        "* Object-Oriented Programming (OOP) is a programming paradigm based on the concept of \"objects,\" which contain data (attributes) and code (methods). It emphasizes encapsulation, inheritance, polymorphism, and abstraction to build modular, reusable, and scalable software.\n",
        "\n"
      ],
      "metadata": {
        "id": "HIiwdqa60_D3"
      }
    },
    {
      "cell_type": "markdown",
      "source": [
        "Q2. What is a class in OOP?\n",
        "* A class in OOP is a blueprint or template for creating objects. It defines the attributes (data) and methods (functions) that the objects created from the class will have. A class encapsulates data for the object and the behavior it should exhibit."
      ],
      "metadata": {
        "id": "dn8ccWAGo0XA"
      }
    },
    {
      "cell_type": "markdown",
      "source": [
        "Q3. What is an object in OOP?\n",
        "* An object in OOP is an instance of a class. It represents a specific entity with its own set of attributes (data) and methods (functions) defined by the class. Objects interact with each other and can perform actions based on their methods."
      ],
      "metadata": {
        "id": "aLo-tC-7o_qh"
      }
    },
    {
      "cell_type": "markdown",
      "source": [
        "Q4. What is the difference between abstraction and encapsulation?\n",
        "* Abstraction hides the complexity of implementation and shows only the necessary details, focusing on \"what\" an object does.\n",
        "* Encapsulation bundles the data (attributes) and methods (functions) into a single unit and restricts access to some of the object's components, focusing on \"how\" the object works internally.\n",
        "* In short:\n",
        "  * **Abstraction:** Hides complexity, exposes functionality.\n",
        "  * **Encapsulation:** Hides data, protects the internal state."
      ],
      "metadata": {
        "id": "KOYRBnYTpJz_"
      }
    },
    {
      "cell_type": "markdown",
      "source": [
        "Q5. What are dunder methods in Python?\n",
        "* Dunder methods (short for \"double underscore\") in Python are special methods that have double underscores at the beginning and end of their names, like `__init__`, `__str__`, and `__len__`.\n",
        "* These methods allow you to define or customize behavior for built-in operations (e.g., object creation, string representation, arithmetic operations) on your custom objects.\n",
        "* For example:\n",
        "  * `__init__` is used for object initialization.\n",
        "  * `__str__` defines the string representation of an object.\n",
        "  * `__add__` defines behavior for the `+` operator.\n",
        ""
      ],
      "metadata": {
        "id": "3lSi5z9gpt40"
      }
    },
    {
      "cell_type": "markdown",
      "source": [
        "Q6. Explain the concept of inheritance in OOP.\n",
        "\n",
        "Inheritance in OOP allows a class (child or subclass) to inherit attributes and methods from another class (parent or superclass). It promotes code reusability and hierarchical relationships between classes.\n",
        "\n",
        "**Example:**\n",
        "\n",
        "```python\n",
        "class Animal:\n",
        "    def speak(self):\n",
        "        print(\"Animal speaks\")\n",
        "\n",
        "class Dog(Animal):\n",
        "    def bark(self):\n",
        "        print(\"Dog barks\")\n",
        "\n",
        "d = Dog()\n",
        "d.speak()  # Inherited from Animal\n",
        "d.bark()   # Defined in Dog\n",
        "```\n",
        "\n",
        "The `Dog` class inherits the `speak()` method from the `Animal` class.\n"
      ],
      "metadata": {
        "id": "lEpFNhpUqIC3"
      }
    },
    {
      "cell_type": "markdown",
      "source": [
        "Q7. What is polymorphism in OOP+\n",
        "\n",
        "**Polymorphism** is the ability of different classes to respond to the same method name in different ways.\n",
        "\n",
        "**Example:**\n",
        "\n",
        "```python\n",
        "class Dog:\n",
        "    def sound(self):\n",
        "        return \"Bark\"\n",
        "\n",
        "class Cat:\n",
        "    def sound(self):\n",
        "        return \"Meow\"\n",
        "\n",
        "for animal in [Dog(), Cat()]:\n",
        "    print(animal.sound())\n",
        "```\n",
        "\n",
        "**Output:**\n",
        "\n",
        "```\n",
        "Bark  \n",
        "Meow\n",
        "```\n",
        "\n",
        "Same method `sound()`, different behaviors.\n"
      ],
      "metadata": {
        "id": "K3NYxUBr3RXy"
      }
    },
    {
      "cell_type": "markdown",
      "source": [
        "Q8. How is encapsulation achieved in Python?\n",
        "\n",
        "Encapsulation in Python is achieved using classes and access modifiers:\n",
        "\n",
        "* **Public**: accessible everywhere (`name`)\n",
        "* **Protected**: prefixed with a single underscore (`_name`) – intended for internal use\n",
        "* **Private**: prefixed with double underscores (`__name`) – name mangled to restrict access\n",
        "\n",
        "**Example:**\n",
        "\n",
        "```python\n",
        "class Person:\n",
        "    def __init__(self):\n",
        "        self.name = \"John\"        # Public\n",
        "        self._age = 30            # Protected\n",
        "        self.__salary = 50000     # Private\n",
        "```\n",
        "\n",
        "Use methods (getters/setters) to control access to private data.\n"
      ],
      "metadata": {
        "id": "F7Ybu5fu3_lx"
      }
    },
    {
      "cell_type": "markdown",
      "source": [
        "Q9. What is a constructor in Python?\n",
        "\n",
        "A constructor in Python is a special method `__init__()` used to initialize a new object's attributes when it is created.\n",
        "\n",
        "**Example:**\n",
        "\n",
        "```python\n",
        "class Person:\n",
        "    def __init__(self, name, age):\n",
        "        self.name = name\n",
        "        self.age = age\n",
        "\n",
        "p = Person(\"Alice\", 30)\n",
        "print(p.name)  # Output: Alice\n",
        "```\n",
        "\n",
        "The constructor runs automatically when a new object is instantiated.\n"
      ],
      "metadata": {
        "id": "f8LmKdG-4J_7"
      }
    },
    {
      "cell_type": "markdown",
      "source": [
        "Q10. What are class and static methods in Python?\n",
        "\n",
        "* **Class Method**: A method that is bound to the class, not the instance. It takes `cls` as the first parameter. It can access and modify class-level attributes.\n",
        "\n",
        "  **Example:**\n",
        "\n",
        "  ```python\n",
        "  class MyClass:\n",
        "      count = 0\n",
        "\n",
        "      @classmethod\n",
        "      def increment_count(cls):\n",
        "          cls.count += 1\n",
        "  ```\n",
        "\n",
        "* **Static Method**: A method that doesn't take `self` or `cls` as the first parameter. It behaves like a regular function but belongs to the class. It doesn't access class or instance attributes.\n",
        "\n",
        "  **Example:**\n",
        "\n",
        "  ```python\n",
        "  class MyClass:\n",
        "      @staticmethod\n",
        "      def greet():\n",
        "          print(\"Hello!\")\n",
        "  ```\n"
      ],
      "metadata": {
        "id": "yN9VJiyM4TGB"
      }
    },
    {
      "cell_type": "markdown",
      "source": [
        "Q11. What is method overloading in Python?\n",
        "\n",
        "Python does not support traditional method overloading (defining multiple methods with the same name but different parameters). However, method overloading can be simulated using default arguments or variable-length arguments.\n",
        "\n",
        "**Example using default arguments:**\n",
        "\n",
        "```python\n",
        "class MyClass:\n",
        "    def greet(self, name=\"Guest\"):\n",
        "        print(f\"Hello, {name}!\")\n",
        "        \n",
        "obj = MyClass()\n",
        "obj.greet()        # Output: Hello, Guest!\n",
        "obj.greet(\"Alice\") # Output: Hello, Alice!\n",
        "```\n",
        "\n",
        "**Example using `*args` and `**kwargs`:\n",
        "\n",
        "```python\n",
        "class MyClass:\n",
        "    def add(self, *args):\n",
        "        return sum(args)\n",
        "\n",
        "obj = MyClass()\n",
        "print(obj.add(1, 2))       # Output: 3\n",
        "print(obj.add(1, 2, 3, 4)) # Output: 10\n",
        "```\n"
      ],
      "metadata": {
        "id": "pXOeHF6E4goa"
      }
    },
    {
      "cell_type": "markdown",
      "source": [
        "Q12. What is method overriding in OOP?\n",
        "\n",
        "Method overriding occurs when a subclass provides a specific implementation of a method that is already defined in its superclass. The subclass method replaces the superclass method when called on an object of the subclass.\n",
        "\n",
        "**Example:**\n",
        "\n",
        "```python\n",
        "class Animal:\n",
        "    def sound(self):\n",
        "        print(\"Animal sound\")\n",
        "\n",
        "class Dog(Animal):\n",
        "    def sound(self):\n",
        "        print(\"Bark\")\n",
        "\n",
        "d = Dog()\n",
        "d.sound()  # Output: Bark\n",
        "```\n",
        "\n",
        "Here, `Dog` overrides the `sound` method of `Animal`."
      ],
      "metadata": {
        "id": "tBnJpPKe5IDr"
      }
    },
    {
      "cell_type": "markdown",
      "source": [
        "Q13. What is a property decorator in Python?\n",
        "\n",
        "The `@property` decorator in Python is used to define a method as a property. This allows you to access it like an attribute, while still running the method behind the scenes. It provides a way to control access to an attribute with getter, setter, and deleter methods.\n",
        "\n",
        "**Example:**\n",
        "\n",
        "```python\n",
        "class Circle:\n",
        "    def __init__(self, radius):\n",
        "        self._radius = radius\n",
        "\n",
        "    @property\n",
        "    def radius(self):\n",
        "        return self._radius\n",
        "\n",
        "    @radius.setter\n",
        "    def radius(self, value):\n",
        "        if value < 0:\n",
        "            raise ValueError(\"Radius cannot be negative\")\n",
        "        self._radius = value\n",
        "\n",
        "c = Circle(5)\n",
        "print(c.radius)  # Calls the getter\n",
        "c.radius = 10    # Calls the setter\n",
        "```\n",
        "\n",
        "The `@property` decorator helps in hiding implementation details while providing an interface like an attribute."
      ],
      "metadata": {
        "id": "phh7L07h5jov"
      }
    },
    {
      "cell_type": "markdown",
      "source": [
        "Q14. Why is polymorphism important in OOP?\n",
        "\n",
        "Polymorphism is important in OOP because it allows for flexibility and scalability. It enables objects of different classes to be treated as objects of a common superclass, allowing the same method to behave differently based on the object. This leads to:\n",
        "\n",
        "1. **Code Reusability**: Write code that can work with objects of multiple classes.\n",
        "2. **Maintainability**: Easier to modify code without affecting other parts of the program.\n",
        "3. **Extensibility**: New classes can be introduced without changing existing code, as long as they follow the same interface.\n"
      ],
      "metadata": {
        "id": "PaeuobE053qg"
      }
    },
    {
      "cell_type": "markdown",
      "source": [
        "Q15. What is an abstract class in Python?\n",
        "An abstract class in Python is a class that cannot be instantiated directly and is meant to be subclassed. It contains abstract methods, which are methods that must be implemented by any subclass. It is defined using the `abc` module.\n",
        "\n",
        "**Example:**\n",
        "\n",
        "```python\n",
        "from abc import ABC, abstractmethod\n",
        "\n",
        "class Animal(ABC):\n",
        "    @abstractmethod\n",
        "    def sound(self):\n",
        "        pass\n",
        "\n",
        "class Dog(Animal):\n",
        "    def sound(self):\n",
        "        return \"Bark\"\n",
        "\n",
        "# animal = Animal()  # This will raise an error\n",
        "dog = Dog()\n",
        "print(dog.sound())  # Output: Bark\n",
        "```\n",
        "\n",
        "An abstract class provides a common interface for all its subclasses.\n"
      ],
      "metadata": {
        "id": "1kjcUd1j6MVn"
      }
    },
    {
      "cell_type": "markdown",
      "source": [
        "Q16. What are the advantages of OOP?\n",
        "\n",
        "The advantages of OOP include:\n",
        "\n",
        "1. **Modularity**: Code is organized into classes and objects, making it easier to manage and maintain.\n",
        "2. **Reusability**: Inheritance allows code to be reused across different classes.\n",
        "3. **Scalability**: OOP allows systems to grow easily with new objects and classes without affecting existing code.\n",
        "4. **Maintainability**: Encapsulation helps in isolating changes, making code easier to update and debug.\n",
        "5. **Flexibility**: Polymorphism enables different classes to share a common interface, promoting flexibility in the design.\n",
        "6. **Abstraction**: Hides complex implementation details, focusing only on essential features for the user.\n"
      ],
      "metadata": {
        "id": "xyYCJ51L6TuU"
      }
    },
    {
      "cell_type": "markdown",
      "source": [
        "Q17. What is the difference between a class variable and an instance variable?\n",
        "\n",
        "* **Class Variable**: A variable shared by all instances of a class. It is defined inside the class but outside any methods.\n",
        "\n",
        "  **Example:**\n",
        "\n",
        "  ```python\n",
        "  class MyClass:\n",
        "      count = 0  # Class variable\n",
        "\n",
        "  obj1 = MyClass()\n",
        "  obj2 = MyClass()\n",
        "  print(obj1.count)  # Output: 0\n",
        "  print(obj2.count)  # Output: 0\n",
        "  ```\n",
        "\n",
        "* **Instance Variable**: A variable unique to each instance of a class, defined inside the `__init__` method.\n",
        "\n",
        "  **Example:**\n",
        "\n",
        "  ```python\n",
        "  class MyClass:\n",
        "      def __init__(self, name):\n",
        "          self.name = name  # Instance variable\n",
        "\n",
        "  obj1 = MyClass(\"Alice\")\n",
        "  obj2 = MyClass(\"Bob\")\n",
        "  print(obj1.name)  # Output: Alice\n",
        "  print(obj2.name)  # Output: Bob\n",
        "  ```\n"
      ],
      "metadata": {
        "id": "RCWKIUZM6p9r"
      }
    },
    {
      "cell_type": "markdown",
      "source": [
        "Q18. What is multiple inheritance in Python?\n",
        "\n",
        "**Multiple inheritance** in Python is when a class inherits from more than one class. The subclass can access attributes and methods from all its parent classes.\n",
        "\n",
        "**Example:**\n",
        "\n",
        "```python\n",
        "class Animal:\n",
        "    def speak(self):\n",
        "        return \"Animal speaks\"\n",
        "\n",
        "class Bird:\n",
        "    def fly(self):\n",
        "        return \"Bird flies\"\n",
        "\n",
        "class Bat(Animal, Bird):\n",
        "    def move(self):\n",
        "        return \"Bat moves\"\n",
        "\n",
        "bat = Bat()\n",
        "print(bat.speak())  # From Animal\n",
        "print(bat.fly())    # From Bird\n",
        "print(bat.move())   # From Bat\n",
        "```\n",
        "\n",
        "In this example, the `Bat` class inherits from both `Animal` and `Bird`.\n"
      ],
      "metadata": {
        "id": "gaN83YVv7BfG"
      }
    },
    {
      "cell_type": "markdown",
      "source": [
        "Q19. Explain the purpose of ‘__str__’ and ‘__repr__’ methods in Python.\n",
        "\n",
        "* **`__str__()`**: Defines the string representation of an object, meant for human-readable output. It is called by `print()` and `str()`.\n",
        "\n",
        "  **Example:**\n",
        "\n",
        "  ```python\n",
        "  class MyClass:\n",
        "      def __str__(self):\n",
        "          return \"This is MyClass\"\n",
        "\n",
        "  obj = MyClass()\n",
        "  print(obj)  # Output: This is MyClass\n",
        "  ```\n",
        "\n",
        "* **`__repr__()`**: Defines the official string representation of an object, meant for debugging and development. It should return a string that, if passed to `eval()`, would recreate the object.\n",
        "\n",
        "  **Example:**\n",
        "\n",
        "  ```python\n",
        "  class MyClass:\n",
        "      def __repr__(self):\n",
        "          return \"MyClass()\"\n",
        "\n",
        "  obj = MyClass()\n",
        "  print(repr(obj))  # Output: MyClass()\n",
        "  ```\n",
        "\n",
        "**Purpose**:\n",
        "\n",
        "* `__str__()` is used for user-friendly display.\n",
        "* `__repr__()` is used for developer-friendly output and debugging.\n"
      ],
      "metadata": {
        "id": "OoxPU8iF7JKf"
      }
    },
    {
      "cell_type": "markdown",
      "source": [
        "Q20. What is the significance of the ‘super()’ function in Python?\n",
        "\n",
        "The `super()` function in Python is used to call methods from a parent (or superclass) in a subclass. It allows you to extend or override methods from the parent class while still accessing the original functionality.\n",
        "\n",
        "**Significance:**\n",
        "\n",
        "1. **Access Parent Methods**: It helps call the parent class's methods, especially when overriding them.\n",
        "2. **Avoid Direct Class References**: It allows the subclass to call the parent class without explicitly mentioning the class name, which is useful for multiple inheritance.\n",
        "3. **Initialization**: It's often used in the constructor to call the parent class's `__init__` method.\n",
        "\n",
        "**Example:**\n",
        "\n",
        "```python\n",
        "class Animal:\n",
        "    def __init__(self, name):\n",
        "        self.name = name\n",
        "\n",
        "    def speak(self):\n",
        "        return \"Animal speaks\"\n",
        "\n",
        "class Dog(Animal):\n",
        "    def __init__(self, name, breed):\n",
        "        super().__init__(name)  # Calling the parent class's __init__\n",
        "        self.breed = breed\n",
        "\n",
        "    def speak(self):\n",
        "        return \"Bark\"\n",
        "\n",
        "dog = Dog(\"Buddy\", \"Golden Retriever\")\n",
        "print(dog.name)  # From Animal class via super()\n",
        "print(dog.speak())  # From Dog class\n",
        "```\n",
        "\n",
        "Here, `super().__init__(name)` calls the `__init__` method of the `Animal` class to initialize the `name` attribute.\n"
      ],
      "metadata": {
        "id": "Iwe2XQNU7V9K"
      }
    },
    {
      "cell_type": "markdown",
      "source": [
        "Q21. What is the significance of the __del__ method in Python?\n",
        "\n",
        "The `__del__()` method in Python is a special method called a **destructor**. It is automatically invoked when an object is about to be destroyed (i.e., when the object's reference count drops to zero). It is typically used for cleanup, such as closing files or releasing external resources (e.g., database connections, network connections).\n",
        "\n",
        "**Significance**:\n",
        "\n",
        "1. **Resource Cleanup**: Helps in cleaning up resources when the object is no longer needed.\n",
        "2. **Memory Management**: While Python uses garbage collection, `__del__()` can be useful to handle specific cleanup tasks.\n",
        "\n",
        "**Example:**\n",
        "\n",
        "```python\n",
        "class MyClass:\n",
        "    def __init__(self):\n",
        "        print(\"Object created\")\n",
        "\n",
        "    def __del__(self):\n",
        "        print(\"Object destroyed\")\n",
        "\n",
        "obj = MyClass()\n",
        "del obj  # Output: Object destroyed\n",
        "```\n",
        "\n",
        "However, it's recommended to use context managers (`with` statement) for resource management instead of relying heavily on `__del__()` because the exact timing of its call is uncertain.\n"
      ],
      "metadata": {
        "id": "OpyR7qNP7erL"
      }
    },
    {
      "cell_type": "markdown",
      "source": [
        "Q22. What is the difference between @staticmethod and @classmethod in Python?\n",
        "\n",
        "The difference between `@staticmethod` and `@classmethod` in Python lies in how they access class-related data.\n",
        "\n",
        "1. **`@staticmethod`**:\n",
        "\n",
        "   * Does not take `self` or `cls` as the first argument.\n",
        "   * Behaves like a regular function, but belongs to the class.\n",
        "   * Cannot access or modify class or instance variables.\n",
        "\n",
        "   **Example:**\n",
        "\n",
        "   ```python\n",
        "   class MyClass:\n",
        "       @staticmethod\n",
        "       def greet():\n",
        "           print(\"Hello!\")\n",
        "\n",
        "   MyClass.greet()  # Output: Hello!\n",
        "   ```\n",
        "\n",
        "2. **`@classmethod`**:\n",
        "\n",
        "   * Takes `cls` as the first argument, which refers to the class itself, not the instance.\n",
        "   * Can access and modify class-level variables, but not instance-level variables.\n",
        "\n",
        "   **Example:**\n",
        "\n",
        "   ```python\n",
        "   class MyClass:\n",
        "       count = 0\n",
        "       \n",
        "       @classmethod\n",
        "       def increment_count(cls):\n",
        "           cls.count += 1\n",
        "           print(cls.count)\n",
        "\n",
        "   MyClass.increment_count()  # Output: 1\n",
        "   ```\n",
        "\n",
        "**Summary**:\n",
        "\n",
        "* `@staticmethod` does not have access to class or instance data.\n",
        "* `@classmethod` has access to the class itself and can modify class-level data.\n"
      ],
      "metadata": {
        "id": "f20YPep37m1Z"
      }
    },
    {
      "cell_type": "markdown",
      "source": [
        "Q23.  How does polymorphism work in Python with inheritance?\n",
        "\n",
        "In Python, **polymorphism** with inheritance works by allowing a subclass to provide a specific implementation of a method that is already defined in a parent class. This enables different classes to be treated as instances of the same superclass, and the same method can behave differently depending on the object's type.\n",
        "\n",
        "### How it works:\n",
        "\n",
        "* A subclass can override a method from the parent class.\n",
        "* When you call the method on an object, Python will use the version of the method defined in the subclass (if overridden).\n",
        "* This allows for flexibility in handling different types of objects that share the same interface (method names).\n",
        "\n",
        "### Example:\n",
        "\n",
        "```python\n",
        "class Animal:\n",
        "    def speak(self):\n",
        "        return \"Animal sound\"\n",
        "\n",
        "class Dog(Animal):\n",
        "    def speak(self):\n",
        "        return \"Bark\"\n",
        "\n",
        "class Cat(Animal):\n",
        "    def speak(self):\n",
        "        return \"Meow\"\n",
        "\n",
        "# Polymorphism in action\n",
        "animals = [Dog(), Cat()]\n",
        "for animal in animals:\n",
        "    print(animal.speak())  # Output: Bark, Meow\n",
        "```\n",
        "\n",
        "In this example:\n",
        "\n",
        "* The `speak()` method is overridden in both `Dog` and `Cat`.\n",
        "* Despite the method being the same name (`speak()`), each class provides its own implementation.\n",
        "* When iterating over a list of `Animal` objects (which includes `Dog` and `Cat`), the correct method (specific to the object type) is called, demonstrating polymorphism.\n",
        "\n",
        "### Key point:\n",
        "\n",
        "Polymorphism allows methods to behave differently based on the object’s class type, even though the method name remains the same. It promotes flexibility and extensibility in object-oriented design.\n"
      ],
      "metadata": {
        "id": "Ti6MyR9v7v9k"
      }
    },
    {
      "cell_type": "markdown",
      "source": [
        "Q24. What is method chaining in Python OOP?\n",
        "\n",
        "**Method chaining** in Python OOP is a technique where multiple methods are called on the same object in a single line of code. This is possible when each method returns the object itself (or another object), allowing successive method calls.\n",
        "\n",
        "### How it works:\n",
        "\n",
        "* Methods in a class return the object (`self`) after performing an operation.\n",
        "* This allows you to chain multiple method calls on the same object.\n",
        "\n",
        "### Example:\n",
        "\n",
        "```python\n",
        "class Calculator:\n",
        "    def __init__(self, value=0):\n",
        "        self.value = value\n",
        "\n",
        "    def add(self, x):\n",
        "        self.value += x\n",
        "        return self  # Return the object itself for chaining\n",
        "\n",
        "    def subtract(self, x):\n",
        "        self.value -= x\n",
        "        return self  # Return the object itself for chaining\n",
        "\n",
        "    def multiply(self, x):\n",
        "        self.value *= x\n",
        "        return self  # Return the object itself for chaining\n",
        "\n",
        "    def get_value(self):\n",
        "        return self.value\n",
        "\n",
        "# Method chaining example\n",
        "calc = Calculator()\n",
        "result = calc.add(10).subtract(5).multiply(2).get_value()\n",
        "print(result)  # Output: 10\n",
        "```\n",
        "\n",
        "Method chaining improves code readability and allows for concise operations by enabling multiple methods to be executed on the same object in a single statement.\n"
      ],
      "metadata": {
        "id": "H49PbeEd77Xr"
      }
    },
    {
      "cell_type": "markdown",
      "source": [
        "Q25. What is the purpose of the __call__ method in Python?\n",
        "\n",
        "The `__call__` method in Python allows an instance of a class to be called like a function. When you define the `__call__` method in a class, the object of that class becomes callable, meaning you can use the object with parentheses as if it were a function.\n",
        "\n",
        "### Purpose:\n",
        "\n",
        "* **Make an object callable**: It enables the object itself to behave like a function.\n",
        "* **Custom behavior**: It allows you to define custom functionality when an object is called, similar to a function call.\n",
        "\n",
        "### Example:\n",
        "\n",
        "```python\n",
        "class Adder:\n",
        "    def __init__(self, value):\n",
        "        self.value = value\n",
        "\n",
        "    def __call__(self, x):\n",
        "        return self.value + x\n",
        "\n",
        "# Create an instance of Adder\n",
        "add_five = Adder(5)\n",
        "\n",
        "# Call the instance as if it were a function\n",
        "result = add_five(10)  # Output: 15\n",
        "print(result)\n",
        "```\n",
        "\n",
        "### How it works:\n",
        "\n",
        "* When `add_five(10)` is called, Python invokes the `__call__` method, passing `10` as the argument `x`.\n",
        "* The method adds the `self.value` (which is 5) to the argument `x` and returns the result.\n",
        "\n",
        "### Key Takeaway:\n",
        "\n",
        "The `__call__` method provides a way to make instances of a class callable, allowing for more flexible and function-like behavior within objects.\n"
      ],
      "metadata": {
        "id": "AJH6mN2w8Eyj"
      }
    },
    {
      "cell_type": "markdown",
      "source": [
        "# **Practical Questions**"
      ],
      "metadata": {
        "id": "k-WNl-qeeRCJ"
      }
    },
    {
      "cell_type": "markdown",
      "source": [
        "Q1. Create a parent class Animal with a method speak() that prints a generic message. Create a child class Dog that overrides the speak() method to print \"Bark!\"."
      ],
      "metadata": {
        "id": "rsrE_R7NeleY"
      }
    },
    {
      "cell_type": "code",
      "source": [
        "class Animal:\n",
        "    def __init__(self, name):\n",
        "        self.name = name\n",
        "    def speak(self):\n",
        "        print(f\"{self.name} makes a generic sound.\")\n",
        "\n",
        "class Dog(Animal):\n",
        "    def speak(self):\n",
        "        print(f\"{self.name} says 'Bark!'\")\n",
        "\n",
        "# anonymous_animal = Animal(\"Anonymous\")\n",
        "# anonymous_animal.speak()\n",
        "dog = Dog(\"Buddy\")\n",
        "dog.speak()"
      ],
      "metadata": {
        "colab": {
          "base_uri": "https://localhost:8080/"
        },
        "id": "-pvOtCQ0j3_2",
        "outputId": "4e109539-649e-47f3-8bfd-f42c7ce40f64"
      },
      "execution_count": null,
      "outputs": [
        {
          "output_type": "stream",
          "name": "stdout",
          "text": [
            "Buddy says 'Bark!'\n"
          ]
        }
      ]
    },
    {
      "cell_type": "markdown",
      "source": [
        "Q2. Write a program to create an abstract class Shape with a method area(). Derive classes Circle and Rectangle from it and implement the area() method in both."
      ],
      "metadata": {
        "id": "iT6h0JPUj5XA"
      }
    },
    {
      "cell_type": "code",
      "source": [
        "from abc import ABC, abstractmethod\n",
        "import math\n",
        "\n",
        "class Shape(ABC):\n",
        "    @abstractmethod\n",
        "    def area(self):\n",
        "        pass\n",
        "\n",
        "class Circle(Shape):\n",
        "    def __init__(self, radius):\n",
        "        self.radius = radius\n",
        "    def area(self):\n",
        "        return math.pi * self.radius * self.radius\n",
        "\n",
        "class Rectangle(Shape):\n",
        "    def __init__(self, length, width):\n",
        "        self.length = length\n",
        "        self.width = width\n",
        "    def area(self):\n",
        "        return self.length * self.width\n",
        "\n",
        "shapes = [\n",
        "    Circle(5),\n",
        "    Rectangle(4, 6)\n",
        "]\n",
        "\n",
        "for shape in shapes:\n",
        "    print(f\"The area of the {shape.__class__.__name__} is: {shape.area():.2f}\")"
      ],
      "metadata": {
        "colab": {
          "base_uri": "https://localhost:8080/"
        },
        "id": "kvJWtwCiUzCw",
        "outputId": "0b6e2fa4-a80f-4e85-cfa0-59cf8ae2b31b"
      },
      "execution_count": null,
      "outputs": [
        {
          "output_type": "stream",
          "name": "stdout",
          "text": [
            "The area of the Circle is: 78.54\n",
            "The area of the Rectangle is: 24.00\n"
          ]
        }
      ]
    },
    {
      "cell_type": "markdown",
      "source": [
        "Q3.Implement a multi-level inheritance scenario where a class Vehicle has an attribute type. Derive a class Car and further derive a class ElectricCar that adds a battery attribute."
      ],
      "metadata": {
        "id": "tbUaiH4pU4gt"
      }
    },
    {
      "cell_type": "code",
      "source": [
        "class Vehicle:\n",
        "    def __init__(self, type):\n",
        "        self.type = type\n",
        "\n",
        "class Car(Vehicle):\n",
        "    def __init__(self, type, model):\n",
        "        super().__init__(type)\n",
        "        self.model = model\n",
        "\n",
        "class ElectricCar(Car):\n",
        "    def __init__(self, type, model, battery):\n",
        "        super().__init__(type, model)\n",
        "        self.battery = battery\n",
        "\n",
        "petrol_car = Car(\"Petrol\", \"Model X\")\n",
        "print(f\"Type: {petrol_car.type}, Model: {petrol_car.model}\")\n",
        "electric_car = ElectricCar(\"Electric\", \"Model S\", \"Li-ion\")\n",
        "print(f\"Type: {electric_car.type}, Model: {electric_car.model}, Battery: {electric_car.battery}\")"
      ],
      "metadata": {
        "colab": {
          "base_uri": "https://localhost:8080/"
        },
        "id": "FVssKoURVTKi",
        "outputId": "6b616b9d-4781-412a-e427-697f2da1094e"
      },
      "execution_count": null,
      "outputs": [
        {
          "output_type": "stream",
          "name": "stdout",
          "text": [
            "Type: Petrol, Model: Model X\n",
            "Type: Electric, Model: Model S, Battery: Li-ion\n"
          ]
        }
      ]
    },
    {
      "cell_type": "markdown",
      "source": [
        "Q4.  Demonstrate polymorphism by creating a base class Bird with a method fly(). Create two derived classes Sparrow and Penguin that override the fly() method."
      ],
      "metadata": {
        "id": "UcROOpbVV1dl"
      }
    },
    {
      "cell_type": "code",
      "source": [
        "class Bird:\n",
        "    def fly(self):\n",
        "        print(\"Birds can fly.\")\n",
        "\n",
        "class Sparrow(Bird):\n",
        "    def fly(self):\n",
        "        print(\"Sparrows can fly at high speeds.\")\n",
        "\n",
        "class Penguin(Bird):\n",
        "    def fly(self):\n",
        "        print(\"Penguins cannot fly.\")\n",
        "\n",
        "bird = Bird()\n",
        "bird.fly()\n",
        "\n",
        "sparrow = Sparrow()\n",
        "sparrow.fly()\n",
        "\n",
        "penguin = Penguin()\n",
        "penguin.fly()"
      ],
      "metadata": {
        "colab": {
          "base_uri": "https://localhost:8080/"
        },
        "id": "ELPUcVzfV7pd",
        "outputId": "dc7205f3-3a25-4e03-9c72-7f78bb2916b7"
      },
      "execution_count": null,
      "outputs": [
        {
          "output_type": "stream",
          "name": "stdout",
          "text": [
            "Birds can fly.\n",
            "Sparrows can fly at high speeds.\n",
            "Penguins cannot fly.\n"
          ]
        }
      ]
    },
    {
      "cell_type": "markdown",
      "source": [
        "Q5.  Write a program to demonstrate encapsulation by creating a class BankAccount with private attributes balance and methods to deposit, withdraw, and check balance."
      ],
      "metadata": {
        "id": "u2AwNJdEWF2l"
      }
    },
    {
      "cell_type": "code",
      "source": [
        "class BankAccount:\n",
        "  def __init__(self, balance):\n",
        "    self.__balance = balance\n",
        "\n",
        "  def deposit(self, amount):\n",
        "    if amount > 0:\n",
        "      self.__balance += amount\n",
        "      print(f\"Deposited ₹{amount}.\")\n",
        "    else:\n",
        "      print(\"Invalid deposit amount.\")\n",
        "\n",
        "  def check_balance(self):\n",
        "    print(f\"Current balance: ₹{self.__balance}\")\n",
        "\n",
        "  def withdraw(self, amount):\n",
        "    if self.__balance >= amount:\n",
        "      self.__balance -= amount\n",
        "      print(f\"Withdrew ₹{amount}.\")\n",
        "    else:\n",
        "      print(\"Insufficient balance.\")\n",
        "\n",
        "account = BankAccount(1000)\n",
        "account.check_balance()\n",
        "\n",
        "account.deposit(500)\n",
        "account.check_balance()\n",
        "\n",
        "account.withdraw(200)\n",
        "account.check_balance()\n",
        "\n",
        "# Trying to access private attribute directly (will fail)\n",
        "try:\n",
        "    print(account.__balance)\n",
        "except AttributeError:\n",
        "    print(\"Error: Cannot access private attribute '__balance' directly.\")"
      ],
      "metadata": {
        "colab": {
          "base_uri": "https://localhost:8080/"
        },
        "id": "ps-4bTf1WMte",
        "outputId": "692ce007-f7a4-439a-af88-1825acceb50b"
      },
      "execution_count": null,
      "outputs": [
        {
          "output_type": "stream",
          "name": "stdout",
          "text": [
            "Current balance: ₹1000\n",
            "Deposited ₹500.\n",
            "Current balance: ₹1500\n",
            "Withdrew ₹200.\n",
            "Current balance: ₹1300\n",
            "Error: Cannot access private attribute '__balance' directly.\n"
          ]
        }
      ]
    },
    {
      "cell_type": "markdown",
      "source": [
        "Q6.  Demonstrate runtime polymorphism using a method play() in a base class Instrument. Derive classes Guitar and Piano that implement their own version of play()."
      ],
      "metadata": {
        "id": "dy_f4lK-ZNGL"
      }
    },
    {
      "cell_type": "code",
      "source": [
        "class Instrument:\n",
        "  def play(self):\n",
        "    print(\"Instrument is playing.\")\n",
        "\n",
        "class Guitar(Instrument):\n",
        "  def play(self):\n",
        "    print(\"Guitar is playing.\")\n",
        "\n",
        "class Piano(Instrument):\n",
        "  def play(self):\n",
        "    print(\"Piano is playing.\")\n",
        "\n",
        "def play_instrument(instrument:Instrument):\n",
        "  instrument.play()\n",
        "\n",
        "guitar = Guitar()\n",
        "piano = Piano()\n",
        "\n",
        "play_instrument(guitar)\n",
        "play_instrument(piano)"
      ],
      "metadata": {
        "colab": {
          "base_uri": "https://localhost:8080/"
        },
        "id": "OR3L_mdGZRaS",
        "outputId": "4e67592c-4b53-470f-f4d2-1b1debf6fdee"
      },
      "execution_count": null,
      "outputs": [
        {
          "output_type": "stream",
          "name": "stdout",
          "text": [
            "Guitar is playing.\n",
            "Piano is playing.\n"
          ]
        }
      ]
    },
    {
      "cell_type": "markdown",
      "source": [
        "Q7.  Create a class MathOperations with a class method add_numbers() to add two numbers and a static method subtract_numbers() to subtract two numbers."
      ],
      "metadata": {
        "id": "RulZUR_4blAY"
      }
    },
    {
      "cell_type": "code",
      "source": [
        "class MathOperations:\n",
        "  @classmethod\n",
        "  def add_numbers(cls, a, b):\n",
        "    return a + b\n",
        "\n",
        "  @staticmethod\n",
        "  def subtract_numbers(a, b):\n",
        "    return a - b\n",
        "\n",
        "print(\"Addition:\", MathOperations.add_numbers(10, 5))        # Class method call\n",
        "print(\"Subtraction:\", MathOperations.subtract_numbers(10, 5))  # Static method call"
      ],
      "metadata": {
        "colab": {
          "base_uri": "https://localhost:8080/"
        },
        "id": "lmBd9nRNbp8E",
        "outputId": "31cd9c2e-558b-4b85-ff3d-7ba50139539e"
      },
      "execution_count": null,
      "outputs": [
        {
          "output_type": "stream",
          "name": "stdout",
          "text": [
            "Addition: 15\n",
            "Subtraction: 5\n"
          ]
        }
      ]
    },
    {
      "cell_type": "markdown",
      "source": [
        "Q8.  Implement a class Person with a class method to count the total number of persons created."
      ],
      "metadata": {
        "id": "KScJpVE_c6t9"
      }
    },
    {
      "cell_type": "code",
      "source": [
        "class Person:\n",
        "  total_persons = 0\n",
        "\n",
        "  def __init__(self, name):\n",
        "    self.name = name\n",
        "    Person.total_persons += 1\n",
        "\n",
        "  @classmethod\n",
        "  def get_total_persons(cls):\n",
        "    return cls.total_persons\n",
        "\n",
        "person1 = Person(\"Alice\")\n",
        "person2 = Person(\"Bob\")\n",
        "person3 = Person(\"Charlie\")\n",
        "\n",
        "print(\"Total persons:\", Person.get_total_persons())"
      ],
      "metadata": {
        "colab": {
          "base_uri": "https://localhost:8080/"
        },
        "id": "IiEZBU_sc99o",
        "outputId": "5fb6ced5-38fa-4c38-e05c-58c3d06552e0"
      },
      "execution_count": null,
      "outputs": [
        {
          "output_type": "stream",
          "name": "stdout",
          "text": [
            "Total persons: 3\n"
          ]
        }
      ]
    },
    {
      "cell_type": "markdown",
      "source": [
        "Q9. Write a class Fraction with attributes numerator and denominator. Override the str method to display the fraction as \"numerator/denominator\"."
      ],
      "metadata": {
        "id": "AppKeXWvdLtd"
      }
    },
    {
      "cell_type": "code",
      "source": [
        "class Fraction:\n",
        "  def __init__(self, numerator, denominator):\n",
        "    self.numerator = numerator\n",
        "    self.denominator = denominator\n",
        "\n",
        "  def __str__(self):\n",
        "    return f\"{self.numerator}/{self.denominator}\"\n",
        "\n",
        "fraction = Fraction(3, 4)\n",
        "print(fraction)"
      ],
      "metadata": {
        "colab": {
          "base_uri": "https://localhost:8080/"
        },
        "id": "qmvlXy08dcSH",
        "outputId": "911fa78e-c0dd-4456-ec19-b0aee27c306f"
      },
      "execution_count": null,
      "outputs": [
        {
          "output_type": "stream",
          "name": "stdout",
          "text": [
            "3/4\n"
          ]
        }
      ]
    },
    {
      "cell_type": "markdown",
      "source": [
        "Q10. Demonstrate operator overloading by creating a class Vector and overriding the add method to add two vectors."
      ],
      "metadata": {
        "id": "EG9TH0kbiNHg"
      }
    },
    {
      "cell_type": "code",
      "source": [
        "class Vector:\n",
        "    def __init__(self, x, y):\n",
        "        self.x = x\n",
        "        self.y = y\n",
        "\n",
        "    # Overload the + operator\n",
        "    def __add__(self, other):\n",
        "        if isinstance(other, Vector):\n",
        "            return Vector(self.x + other.x, self.y + other.y)\n",
        "        raise TypeError(\"Operands must be of type Vector\")\n",
        "\n",
        "    def __str__(self):\n",
        "        return f\"Vector({self.x}, {self.y})\"\n",
        "\n",
        "# Driver code\n",
        "v1 = Vector(3, 4)\n",
        "v2 = Vector(1, 2)\n",
        "v3 = v1 + v2  # Internally v1.__add__(v2)\n",
        "\n",
        "print(\"v1:\", v1)\n",
        "print(\"v2:\", v2)\n",
        "print(\"v1 + v2 =\", v3)"
      ],
      "metadata": {
        "colab": {
          "base_uri": "https://localhost:8080/"
        },
        "id": "DEf4mLEZiKcH",
        "outputId": "a600ada4-17a0-4267-fee6-405b2d9bb5de"
      },
      "execution_count": null,
      "outputs": [
        {
          "output_type": "stream",
          "name": "stdout",
          "text": [
            "v1: Vector(3, 4)\n",
            "v2: Vector(1, 2)\n",
            "v1 + v2 = Vector(4, 6)\n"
          ]
        }
      ]
    },
    {
      "cell_type": "markdown",
      "source": [
        "Q11. Create a class Person with attributes name and age. Add a method greet() that prints \"Hello, my name is {name} and I am {age} years old.\""
      ],
      "metadata": {
        "id": "ijqXUvLXkO9H"
      }
    },
    {
      "cell_type": "code",
      "source": [
        "class Person:\n",
        "  def __init__(self, name, age):\n",
        "    self.name = name\n",
        "    self.age = age\n",
        "\n",
        "  def greet(self):\n",
        "    print(f\"Hello, my name is {self.name} and I am {self.age} years old.\")\n",
        "\n",
        "person = Person(\"Alice\", 25)\n",
        "person.greet()"
      ],
      "metadata": {
        "colab": {
          "base_uri": "https://localhost:8080/"
        },
        "id": "R-NYCt8EkUn9",
        "outputId": "0176a716-227e-424f-86fa-82d8a7ccd85a"
      },
      "execution_count": null,
      "outputs": [
        {
          "output_type": "stream",
          "name": "stdout",
          "text": [
            "Hello, my name is Alice and I am 25 years old.\n"
          ]
        }
      ]
    },
    {
      "cell_type": "markdown",
      "source": [
        "Q12.  Implement a class Student with attributes name and grades. Create a method average_grade() to compute the average of the grades."
      ],
      "metadata": {
        "id": "36LC7du1kd6P"
      }
    },
    {
      "cell_type": "code",
      "source": [
        "class Student:\n",
        "  def __init__(self, name, grades):\n",
        "    self.name = name\n",
        "    self.grades = grades\n",
        "\n",
        "  def average_grade(self):\n",
        "    if not self.grades:\n",
        "      return 0\n",
        "    return sum(self.grades) / len(self.grades)\n",
        "\n",
        "  def __str__(self):\n",
        "    return f\"Student(name={self.name}, grades={self.grades})\"\n",
        "\n",
        "student1 = Student(\"Alice\", [85, 90, 78, 92])\n",
        "print(str(student1))\n",
        "average_grade = student1.average_grade()\n",
        "print(f\"Average grade: {average_grade}\")"
      ],
      "metadata": {
        "colab": {
          "base_uri": "https://localhost:8080/"
        },
        "id": "JOlKKL87kdkd",
        "outputId": "371982e3-f7aa-481d-aeff-762ace011990"
      },
      "execution_count": null,
      "outputs": [
        {
          "output_type": "stream",
          "name": "stdout",
          "text": [
            "Student(name=Alice, grades=[85, 90, 78, 92])\n",
            "Average grade: 86.25\n"
          ]
        }
      ]
    },
    {
      "cell_type": "markdown",
      "source": [
        "Q13.  Create a class Rectangle with methods set_dimensions() to set the dimensions and area() to calculate the area."
      ],
      "metadata": {
        "id": "qaOIr8dWlGOI"
      }
    },
    {
      "cell_type": "code",
      "source": [
        "class Rectangle:\n",
        "  def __init__(self, length, width):\n",
        "    self.length = length\n",
        "    self.width = width\n",
        "\n",
        "  def set_dimensions(self, length, width):\n",
        "    self.length = length\n",
        "    self.width = width\n",
        "\n",
        "  def area(self):\n",
        "    return self.length * self.width\n",
        "\n",
        "rectangle = Rectangle(5, 10)\n",
        "print(\"Area:\", rectangle.area())\n",
        "\n",
        "rectangle.set_dimensions(8, 12)\n",
        "print(\"Area:\", rectangle.area())"
      ],
      "metadata": {
        "colab": {
          "base_uri": "https://localhost:8080/"
        },
        "id": "9h-YT5uClJqb",
        "outputId": "f632ad96-c284-4de1-e54f-8d29588c2981"
      },
      "execution_count": null,
      "outputs": [
        {
          "output_type": "stream",
          "name": "stdout",
          "text": [
            "Area: 50\n",
            "Area: 96\n"
          ]
        }
      ]
    },
    {
      "cell_type": "markdown",
      "source": [
        "Q14. Create a class Employee with a method calculate_salary() that computes the salary based on hours worked and hourly rate. Create a derived class Manager that adds a bonus to the salary."
      ],
      "metadata": {
        "id": "0y7HahFulerT"
      }
    },
    {
      "cell_type": "code",
      "source": [
        "# Base class\n",
        "class Employee:\n",
        "    def __init__(self, name, hours_worked, hourly_rate):\n",
        "        self.name = name\n",
        "        self.hours_worked = hours_worked\n",
        "        self.hourly_rate = hourly_rate\n",
        "\n",
        "    def calculate_salary(self):\n",
        "        salary = self.hours_worked * self.hourly_rate\n",
        "        print(f\"{self.name}'s Salary: ₹{salary}\")\n",
        "        return salary\n",
        "\n",
        "# Derived class\n",
        "class Manager(Employee):\n",
        "    def __init__(self, name, hours_worked, hourly_rate, bonus):\n",
        "        super().__init__(name, hours_worked, hourly_rate)\n",
        "        self.bonus = bonus\n",
        "\n",
        "    def calculate_salary(self):\n",
        "        base_salary = super().calculate_salary()\n",
        "        total_salary = base_salary + self.bonus\n",
        "        print(f\"{self.name} receives a bonus of ₹{self.bonus}. Total Salary: ₹{total_salary}\")\n",
        "\n",
        "# Driver code\n",
        "emp = Employee(\"Alice\", 40, 500)\n",
        "emp.calculate_salary()\n",
        "\n",
        "mgr = Manager(\"Bob\", 45, 800, 5000)\n",
        "mgr.calculate_salary()"
      ],
      "metadata": {
        "colab": {
          "base_uri": "https://localhost:8080/"
        },
        "id": "Smp-9tCLlivZ",
        "outputId": "b3dbaa7f-f900-4bb4-e38e-32648bb10856"
      },
      "execution_count": null,
      "outputs": [
        {
          "output_type": "stream",
          "name": "stdout",
          "text": [
            "Alice's Salary: ₹20000\n",
            "Bob's Salary: ₹36000\n",
            "Bob receives a bonus of ₹5000. Total Salary: ₹41000\n"
          ]
        }
      ]
    },
    {
      "cell_type": "markdown",
      "source": [
        "Q15. Create a class Product with attributes name, price, and quantity. Implement a method total_price() that calculates the total price of the product."
      ],
      "metadata": {
        "id": "HnXrYGPxmaPT"
      }
    },
    {
      "cell_type": "code",
      "source": [
        "class Product:\n",
        "  def __init__(self, name, price, quantity):\n",
        "    self.name = name\n",
        "    self.price = price\n",
        "    self.quantity = quantity\n",
        "\n",
        "  def total_price(self):\n",
        "    return self.price * self.quantity\n",
        "\n",
        "  def __str__(self):\n",
        "    return f\"Product(name={self.name}, price={self.price}, quantity={self.quantity})\"\n",
        "\n",
        "product = Product(\"Laptop\", 999, 2)\n",
        "print(str(product))\n",
        "print(\"Total price:\", product.total_price())"
      ],
      "metadata": {
        "colab": {
          "base_uri": "https://localhost:8080/"
        },
        "id": "ZGDFS8bzmZz_",
        "outputId": "fb6a6681-c3a4-4251-e52a-8e2e13582881"
      },
      "execution_count": null,
      "outputs": [
        {
          "output_type": "stream",
          "name": "stdout",
          "text": [
            "Product(name=Laptop, price=999, quantity=2)\n",
            "Total price: 1998\n"
          ]
        }
      ]
    },
    {
      "cell_type": "markdown",
      "source": [
        "Q16. Create a class Animal with an abstract method sound(). Create two derived classes Cow and Sheep that implement the sound() method."
      ],
      "metadata": {
        "id": "-MypjHd8z7oN"
      }
    },
    {
      "cell_type": "code",
      "source": [
        "from abc import ABC, abstractmethod\n",
        "\n",
        "class Animal(ABC):\n",
        "    @abstractmethod\n",
        "    def sound(self):\n",
        "        pass\n",
        "\n",
        "class Cow(Animal):\n",
        "    def sound(self):\n",
        "        print(\"Moo!\")\n",
        "\n",
        "class Sheep(Animal):\n",
        "    def sound(self):\n",
        "        print(\"Baa!\")\n",
        "\n",
        "cow = Cow()\n",
        "cow.sound()\n",
        "\n",
        "sheep = Sheep()\n",
        "sheep.sound()"
      ],
      "metadata": {
        "colab": {
          "base_uri": "https://localhost:8080/"
        },
        "id": "B_pdtKDBz_U-",
        "outputId": "62863331-4ff6-41e0-ee56-48da6d40a82a"
      },
      "execution_count": null,
      "outputs": [
        {
          "output_type": "stream",
          "name": "stdout",
          "text": [
            "Moo!\n",
            "Baa!\n"
          ]
        }
      ]
    },
    {
      "cell_type": "markdown",
      "source": [
        "Q17.  Create a class Book with attributes title, author, and year_published. Add a method get_book_info() that returns a formatted string with the book's details."
      ],
      "metadata": {
        "id": "HclAqviU0Mkz"
      }
    },
    {
      "cell_type": "code",
      "source": [
        "class Book:\n",
        "  def __init__(self, title, author, year_published):\n",
        "    self.title = title\n",
        "    self.author = author\n",
        "    self.year_published = year_published\n",
        "\n",
        "  def get_book_info(self):\n",
        "    return f\"Title: {self.title}\\nAuthor: {self.author}\\nYear Published: {self.year_published}\"\n",
        "\n",
        "book = Book(\"The Great Gatsby\", \"F. Scott Fitzgerald\", 1925)\n",
        "print(book.get_book_info())"
      ],
      "metadata": {
        "colab": {
          "base_uri": "https://localhost:8080/"
        },
        "id": "7VUzUdlv0P00",
        "outputId": "6a311dea-4c34-4e44-a40c-288b8a53043d"
      },
      "execution_count": null,
      "outputs": [
        {
          "output_type": "stream",
          "name": "stdout",
          "text": [
            "Title: The Great Gatsby\n",
            "Author: F. Scott Fitzgerald\n",
            "Year Published: 1925\n"
          ]
        }
      ]
    },
    {
      "cell_type": "markdown",
      "source": [
        "Q18.  Create a class House with attributes address and price. Create a derived class Mansion that adds an attribute number_of_rooms."
      ],
      "metadata": {
        "id": "5RmGy_t30bdl"
      }
    },
    {
      "cell_type": "code",
      "source": [
        "# Base class\n",
        "class House:\n",
        "    def __init__(self, address, price):\n",
        "        self.address = address\n",
        "        self.price = price\n",
        "\n",
        "    def display_info(self):\n",
        "        print(f\"Address: {self.address}\")\n",
        "        print(f\"Price: ₹{self.price}\")\n",
        "\n",
        "# Derived class\n",
        "class Mansion(House):\n",
        "    def __init__(self, address, price, number_of_rooms):\n",
        "        super().__init__(address, price)\n",
        "        self.number_of_rooms = number_of_rooms\n",
        "\n",
        "    def display_info(self):\n",
        "        super().display_info()\n",
        "        print(f\"Number of Rooms: {self.number_of_rooms}\")\n",
        "\n",
        "# Driver code\n",
        "simple_house = House(\"123 Main St, Pune\", 5000000)\n",
        "print(\"House Info:\")\n",
        "simple_house.display_info()\n",
        "\n",
        "print(\"\\nMansion Info:\")\n",
        "luxury_mansion = Mansion(\"Elite Hills, Mumbai\", 20000000, 10)\n",
        "luxury_mansion.display_info()\n"
      ],
      "metadata": {
        "colab": {
          "base_uri": "https://localhost:8080/"
        },
        "id": "_eteqlRm0eOV",
        "outputId": "13653d5f-4751-45af-bb6d-23c15b13f509"
      },
      "execution_count": null,
      "outputs": [
        {
          "output_type": "stream",
          "name": "stdout",
          "text": [
            "House Info:\n",
            "Address: 123 Main St, Pune\n",
            "Price: ₹5000000\n",
            "\n",
            "Mansion Info:\n",
            "Address: Elite Hills, Mumbai\n",
            "Price: ₹20000000\n",
            "Number of Rooms: 10\n"
          ]
        }
      ]
    }
  ]
}